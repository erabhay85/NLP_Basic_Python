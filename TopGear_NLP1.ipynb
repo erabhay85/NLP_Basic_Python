{
 "cells": [
  {
   "cell_type": "markdown",
   "metadata": {},
   "source": [
    "# EX6: Article Spinner"
   ]
  },
  {
   "cell_type": "code",
   "execution_count": 3,
   "metadata": {
    "collapsed": true
   },
   "outputs": [],
   "source": [
    "import nltk\n",
    "import random\n",
    "import numpy as np\n",
    "import pandas as pd"
   ]
  },
  {
   "cell_type": "code",
   "execution_count": 4,
   "metadata": {},
   "outputs": [],
   "source": [
    "data = pd.read_table('NLP_Q6.txt',header=None,names='C')"
   ]
  },
  {
   "cell_type": "code",
   "execution_count": 16,
   "metadata": {},
   "outputs": [],
   "source": [
    "trigrams = {}\n",
    "for m in range(len(data) - 1):\n",
    "    s = data['C'][m].lower()\n",
    "    tokens = nltk.tokenize.word_tokenize(s)\n",
    "    for i in range(len(tokens) - 2):\n",
    "        k = (tokens[i], tokens[i+2])\n",
    "        if k not in trigrams:\n",
    "            trigrams[k] = []\n",
    "        trigrams[k].append(tokens[i+1])"
   ]
  },
  {
   "cell_type": "code",
   "execution_count": 26,
   "metadata": {},
   "outputs": [],
   "source": [
    "trigram_probabilities = {}\n",
    "for k, words in trigrams.items():\n",
    "    # create a dictionary of word -> count\n",
    "    if len(set(words)) > 1:\n",
    "        # only do this when there are different possibilities for a middle word\n",
    "        d = {}\n",
    "        n = 0\n",
    "        for w in words:\n",
    "            if w not in d:\n",
    "                d[w] = 0\n",
    "            d[w] += 1\n",
    "            n += 1\n",
    "        for w, c in d.items():\n",
    "            d[w] = float(c) / n\n",
    "        trigram_probabilities[k] = d"
   ]
  },
  {
   "cell_type": "code",
   "execution_count": 20,
   "metadata": {},
   "outputs": [],
   "source": [
    "def random_sample(d):\n",
    "    # choose a random sample from dictionary where values are the probabilities\n",
    "    r = random.random()\n",
    "    cumulative = 0\n",
    "    for w, p in d.items():\n",
    "        cumulative += p\n",
    "        if r < cumulative:\n",
    "            return w"
   ]
  },
  {
   "cell_type": "code",
   "execution_count": 21,
   "metadata": {
    "collapsed": true
   },
   "outputs": [],
   "source": [
    "def test_spinner(m):\n",
    "    s = m.lower()\n",
    "    print (\"Original:\", s)\n",
    "    tokens = nltk.tokenize.word_tokenize(s)\n",
    "    for i in range(len(tokens) - 2):\n",
    "        if random.random() < 0.2: # 20% chance of replacement\n",
    "            k = (tokens[i], tokens[i+2])\n",
    "            if k in trigram_probabilities:\n",
    "                w = random_sample(trigram_probabilities[k])\n",
    "                tokens[i+1] = w\n",
    "    print (\"Spun:\")\n",
    "    print (\" \".join(tokens).replace(\" .\", \".\").replace(\" '\", \"'\").replace(\" ,\", \",\").replace(\"$ \", \"$\").replace(\" !\", \"!\"))"
   ]
  },
  {
   "cell_type": "code",
   "execution_count": 23,
   "metadata": {},
   "outputs": [
    {
     "name": "stdout",
     "output_type": "stream",
     "text": [
      "('Original:', 'in the present world of cut-throat internet marketing, you need all the help you get. so why not cut down on the time needed to create new unique content? this is probably the most time consuming part of your website building process.')\n",
      "Spun:\n",
      "in the present world of cut-throat internet marketing, you need all the help you get. so why not cut down on the time needed to create new unique content ? this is probably the most time consuming part of your website building process.\n"
     ]
    }
   ],
   "source": [
    "test_spinner(data['C'][1])"
   ]
  },
  {
   "cell_type": "markdown",
   "metadata": {},
   "source": [
    "# EX7: Latent Semantic Analysis"
   ]
  },
  {
   "cell_type": "code",
   "execution_count": 29,
   "metadata": {
    "collapsed": true
   },
   "outputs": [],
   "source": [
    "import sklearn\n",
    "from sklearn.decomposition import TruncatedSVD\n",
    "from sklearn.feature_extraction.text import TfidfVectorizer\n",
    "from sklearn.feature_extraction.text import CountVectorizer\n",
    "from sklearn.preprocessing import Normalizer\n",
    "from sklearn import metrics\n",
    "from sklearn.cluster import KMeans, MiniBatchKMeans\n",
    "import pandas as pd"
   ]
  },
  {
   "cell_type": "code",
   "execution_count": 127,
   "metadata": {},
   "outputs": [],
   "source": [
    "data1 = pd.read_table('NLP_Q7_1.txt',header=None,names='C',encoding='utf-8')\n",
    "data2 = pd.read_table('NLP_Q7_2.txt',header=None,names='C',encoding='utf-8')\n",
    "data3 = pd.read_table('NLP_Q7_3.txt',header=None,names='C',encoding='utf-8')\n",
    "data4 = pd.read_table('NLP_Q7_4.txt',header=None,names='C',encoding='utf-8')\n",
    "data5 = pd.read_table('NLP_Q7_5.txt',header=None,names='C',encoding='utf-8')\n",
    "data6 = pd.read_table('NLP_Q7_6.txt',header=None,names='C',encoding='utf-8')\n",
    "data7 = pd.read_table('NLP_Q7_7.txt',header=None,names='C',encoding='utf-8')\n",
    "data8 = pd.read_table('NLP_Q7_8.txt',header=None,names='C',encoding='utf-8')"
   ]
  },
  {
   "cell_type": "code",
   "execution_count": 128,
   "metadata": {},
   "outputs": [],
   "source": [
    "frames = [data1,data2,data3,data4,data5,data6,data7,data8]\n",
    "data = pd.concat(frames,ignore_index=True)"
   ]
  },
  {
   "cell_type": "code",
   "execution_count": 129,
   "metadata": {},
   "outputs": [
    {
     "data": {
      "text/html": [
       "<div>\n",
       "<style>\n",
       "    .dataframe thead tr:only-child th {\n",
       "        text-align: right;\n",
       "    }\n",
       "\n",
       "    .dataframe thead th {\n",
       "        text-align: left;\n",
       "    }\n",
       "\n",
       "    .dataframe tbody tr th {\n",
       "        vertical-align: top;\n",
       "    }\n",
       "</style>\n",
       "<table border=\"1\" class=\"dataframe\">\n",
       "  <thead>\n",
       "    <tr style=\"text-align: right;\">\n",
       "      <th></th>\n",
       "      <th>C</th>\n",
       "    </tr>\n",
       "  </thead>\n",
       "  <tbody>\n",
       "    <tr>\n",
       "      <th>0</th>\n",
       "      <td>For all the dangers football poses to its play...</td>\n",
       "    </tr>\n",
       "    <tr>\n",
       "      <th>1</th>\n",
       "      <td>For all the dangers football poses to its play...</td>\n",
       "    </tr>\n",
       "    <tr>\n",
       "      <th>2</th>\n",
       "      <td>College football recruiters have their GPS dev...</td>\n",
       "    </tr>\n",
       "    <tr>\n",
       "      <th>3</th>\n",
       "      <td>The prospect of housing astronauts beneath the...</td>\n",
       "    </tr>\n",
       "    <tr>\n",
       "      <th>4</th>\n",
       "      <td>There are still a few challenges to be worked ...</td>\n",
       "    </tr>\n",
       "    <tr>\n",
       "      <th>5</th>\n",
       "      <td>Nevertheless, if we manage to seal off a lunar...</td>\n",
       "    </tr>\n",
       "    <tr>\n",
       "      <th>6</th>\n",
       "      <td>According to radar data from the agency's SELE...</td>\n",
       "    </tr>\n",
       "    <tr>\n",
       "      <th>7</th>\n",
       "      <td>Lava tubes formed billions of years ago when t...</td>\n",
       "    </tr>\n",
       "    <tr>\n",
       "      <th>8</th>\n",
       "      <td>President Donald Trump has made it known he w...</td>\n",
       "    </tr>\n",
       "    <tr>\n",
       "      <th>9</th>\n",
       "      <td>Trump is embracing a tried-and-true tactic bef...</td>\n",
       "    </tr>\n",
       "    <tr>\n",
       "      <th>10</th>\n",
       "      <td>Trump has repeatedly assailed Democratic candi...</td>\n",
       "    </tr>\n",
       "    <tr>\n",
       "      <th>11</th>\n",
       "      <td>The two independent cabinet ministers that sup...</td>\n",
       "    </tr>\n",
       "    <tr>\n",
       "      <th>12</th>\n",
       "      <td>The situation is very grave. We will make our ...</td>\n",
       "    </tr>\n",
       "    <tr>\n",
       "      <th>13</th>\n",
       "      <td>Also called saloon, a sedan is a type of passe...</td>\n",
       "    </tr>\n",
       "    <tr>\n",
       "      <th>14</th>\n",
       "      <td>Regarding the passenger compartment, it includ...</td>\n",
       "    </tr>\n",
       "    <tr>\n",
       "      <th>15</th>\n",
       "      <td>Interestingly, battery electric liftbacks like...</td>\n",
       "    </tr>\n",
       "    <tr>\n",
       "      <th>16</th>\n",
       "      <td>To make things more interesting, let's provide...</td>\n",
       "    </tr>\n",
       "  </tbody>\n",
       "</table>\n",
       "</div>"
      ],
      "text/plain": [
       "                                                    C\n",
       "0   For all the dangers football poses to its play...\n",
       "1   For all the dangers football poses to its play...\n",
       "2   College football recruiters have their GPS dev...\n",
       "3   The prospect of housing astronauts beneath the...\n",
       "4   There are still a few challenges to be worked ...\n",
       "5   Nevertheless, if we manage to seal off a lunar...\n",
       "6   According to radar data from the agency's SELE...\n",
       "7   Lava tubes formed billions of years ago when t...\n",
       "8    President Donald Trump has made it known he w...\n",
       "9   Trump is embracing a tried-and-true tactic bef...\n",
       "10  Trump has repeatedly assailed Democratic candi...\n",
       "11  The two independent cabinet ministers that sup...\n",
       "12  The situation is very grave. We will make our ...\n",
       "13  Also called saloon, a sedan is a type of passe...\n",
       "14  Regarding the passenger compartment, it includ...\n",
       "15  Interestingly, battery electric liftbacks like...\n",
       "16  To make things more interesting, let's provide..."
      ]
     },
     "execution_count": 129,
     "metadata": {},
     "output_type": "execute_result"
    }
   ],
   "source": [
    "data"
   ]
  },
  {
   "cell_type": "code",
   "execution_count": 130,
   "metadata": {},
   "outputs": [],
   "source": [
    "Corpus =data.as_matrix(columns=None) "
   ]
  },
  {
   "cell_type": "code",
   "execution_count": 131,
   "metadata": {},
   "outputs": [],
   "source": [
    "vectorizer = CountVectorizer(min_df = 1, stop_words = 'english')\n"
   ]
  },
  {
   "cell_type": "code",
   "execution_count": 132,
   "metadata": {},
   "outputs": [],
   "source": [
    "Final_Corpus= []\n"
   ]
  },
  {
   "cell_type": "code",
   "execution_count": 133,
   "metadata": {},
   "outputs": [],
   "source": [
    "for i in range(len(Corpus)-1):\n",
    "    Final_Corpus.append(Corpus[i][0])\n"
   ]
  },
  {
   "cell_type": "code",
   "execution_count": 142,
   "metadata": {},
   "outputs": [],
   "source": [
    "dtm = vectorizer.fit_transform(Final_Corpus)"
   ]
  },
  {
   "cell_type": "code",
   "execution_count": 136,
   "metadata": {},
   "outputs": [
    {
     "name": "stdout",
     "output_type": "stream",
     "text": [
      "                                                    12  2014  300  330  37  \\\n",
      "For all the dangers football poses to its playe...   0     0    0    0   1   \n",
      "For all the dangers football poses to its playe...   0     0    0    0   1   \n",
      "College football recruiters have their GPS devi...   0     0    0    0   0   \n",
      "The prospect of housing astronauts beneath the ...   0     1    0    0   0   \n",
      "There are still a few challenges to be worked o...   0     0    0    0   0   \n",
      "Nevertheless, if we manage to seal off a lunar ...   0     0    0    0   0   \n",
      "According to radar data from the agency's SELEN...   0     0    1    1   0   \n",
      "Lava tubes formed billions of years ago when th...   0     0    0    0   0   \n",
      " President Donald Trump has made it known he wo...   0     0    0    0   0   \n",
      "Trump is embracing a tried-and-true tactic befo...   1     0    0    0   0   \n",
      "\n",
      "                                                    according  active  \\\n",
      "For all the dangers football poses to its playe...          0       0   \n",
      "For all the dangers football poses to its playe...          0       0   \n",
      "College football recruiters have their GPS devi...          0       0   \n",
      "The prospect of housing astronauts beneath the ...          0       0   \n",
      "There are still a few challenges to be worked o...          0       0   \n",
      "Nevertheless, if we manage to seal off a lunar ...          0       0   \n",
      "According to radar data from the agency's SELEN...          1       0   \n",
      "Lava tubes formed billions of years ago when th...          0       1   \n",
      " President Donald Trump has made it known he wo...          0       0   \n",
      "Trump is embracing a tried-and-true tactic befo...          0       0   \n",
      "\n",
      "                                                    addition  adults  agency  \\\n",
      "For all the dangers football poses to its playe...         0       0       0   \n",
      "For all the dangers football poses to its playe...         0       0       0   \n",
      "College football recruiters have their GPS devi...         0       0       0   \n",
      "The prospect of housing astronauts beneath the ...         1       0       0   \n",
      "There are still a few challenges to be worked o...         0       0       0   \n",
      "Nevertheless, if we manage to seal off a lunar ...         1       0       0   \n",
      "According to radar data from the agency's SELEN...         0       0       1   \n",
      "Lava tubes formed billions of years ago when th...         0       0       0   \n",
      " President Donald Trump has made it known he wo...         0       0       0   \n",
      "Trump is embracing a tried-and-true tactic befo...         0       0       0   \n",
      "\n",
      "                                                    ...    weight  white  \\\n",
      "For all the dangers football poses to its playe...  ...         0      0   \n",
      "For all the dangers football poses to its playe...  ...         0      0   \n",
      "College football recruiters have their GPS devi...  ...         1      0   \n",
      "The prospect of housing astronauts beneath the ...  ...         0      0   \n",
      "There are still a few challenges to be worked o...  ...         0      0   \n",
      "Nevertheless, if we manage to seal off a lunar ...  ...         0      0   \n",
      "According to radar data from the agency's SELEN...  ...         0      0   \n",
      "Lava tubes formed billions of years ago when th...  ...         0      0   \n",
      " President Donald Trump has made it known he wo...  ...         0      0   \n",
      "Trump is embracing a tried-and-true tactic befo...  ...         0      0   \n",
      "\n",
      "                                                    wide  won  work  worked  \\\n",
      "For all the dangers football poses to its playe...     0    0     0       0   \n",
      "For all the dangers football poses to its playe...     0    0     0       0   \n",
      "College football recruiters have their GPS devi...     0    0     0       0   \n",
      "The prospect of housing astronauts beneath the ...     0    0     0       0   \n",
      "There are still a few challenges to be worked o...     0    0     0       1   \n",
      "Nevertheless, if we manage to seal off a lunar ...     0    0     1       0   \n",
      "According to radar data from the agency's SELEN...     1    0     0       0   \n",
      "Lava tubes formed billions of years ago when th...     0    0     0       0   \n",
      " President Donald Trump has made it known he wo...     0    1     0       0   \n",
      "Trump is embracing a tried-and-true tactic befo...     0    0     0       0   \n",
      "\n",
      "                                                    world  worlds  years  \\\n",
      "For all the dangers football poses to its playe...      0       0      0   \n",
      "For all the dangers football poses to its playe...      0       0      0   \n",
      "College football recruiters have their GPS devi...      0       0      0   \n",
      "The prospect of housing astronauts beneath the ...      0       1      0   \n",
      "There are still a few challenges to be worked o...      1       0      0   \n",
      "Nevertheless, if we manage to seal off a lunar ...      0       0      0   \n",
      "According to radar data from the agency's SELEN...      0       0      0   \n",
      "Lava tubes formed billions of years ago when th...      0       0      1   \n",
      " President Donald Trump has made it known he wo...      0       0      0   \n",
      "Trump is embracing a tried-and-true tactic befo...      0       0      0   \n",
      "\n",
      "                                                    young  \n",
      "For all the dangers football poses to its playe...      1  \n",
      "For all the dangers football poses to its playe...      1  \n",
      "College football recruiters have their GPS devi...      0  \n",
      "The prospect of housing astronauts beneath the ...      0  \n",
      "There are still a few challenges to be worked o...      0  \n",
      "Nevertheless, if we manage to seal off a lunar ...      0  \n",
      "According to radar data from the agency's SELEN...      0  \n",
      "Lava tubes formed billions of years ago when th...      0  \n",
      " President Donald Trump has made it known he wo...      0  \n",
      "Trump is embracing a tried-and-true tactic befo...      0  \n",
      "\n",
      "[10 rows x 371 columns]\n"
     ]
    }
   ],
   "source": [
    "print(pd.DataFrame(dtm.toarray(),index=Final_Corpus,columns=vectorizer.get_feature_names()).head(10))"
   ]
  },
  {
   "cell_type": "code",
   "execution_count": 137,
   "metadata": {},
   "outputs": [
    {
     "data": {
      "text/plain": [
       "<16x371 sparse matrix of type '<type 'numpy.int64'>'\n",
       "\twith 473 stored elements in Compressed Sparse Row format>"
      ]
     },
     "execution_count": 137,
     "metadata": {},
     "output_type": "execute_result"
    }
   ],
   "source": [
    "dtm"
   ]
  },
  {
   "cell_type": "code",
   "execution_count": 138,
   "metadata": {},
   "outputs": [
    {
     "data": {
      "text/plain": [
       "[u'12',\n",
       " u'2014',\n",
       " u'300',\n",
       " u'330',\n",
       " u'37',\n",
       " u'according',\n",
       " u'active',\n",
       " u'addition',\n",
       " u'adults',\n",
       " u'agency',\n",
       " u'ago',\n",
       " u'agriculture',\n",
       " u'air',\n",
       " u'allegations',\n",
       " u'alliance',\n",
       " u'announced',\n",
       " u'areas',\n",
       " u'argues',\n",
       " u'assailed',\n",
       " u'astronauts',\n",
       " u'athletics',\n",
       " u'attempted',\n",
       " u'base',\n",
       " u'based',\n",
       " u'battery',\n",
       " u'begin',\n",
       " u'behalf',\n",
       " u'beneath',\n",
       " u'billions',\n",
       " u'board',\n",
       " u'box',\n",
       " u'bring',\n",
       " u'broken',\n",
       " u'brought',\n",
       " u'busy',\n",
       " u'buzz',\n",
       " u'cabinet',\n",
       " u'called',\n",
       " u'calling',\n",
       " u'candidate',\n",
       " u'car',\n",
       " u'cargo',\n",
       " u'cars',\n",
       " u'cases',\n",
       " u'cave',\n",
       " u'caves',\n",
       " u'challenges',\n",
       " u'chamber',\n",
       " u'channels',\n",
       " u'chasm',\n",
       " u'chevrolet',\n",
       " u'child',\n",
       " u'china',\n",
       " u'closes',\n",
       " u'collapsed',\n",
       " u'college',\n",
       " u'colony',\n",
       " u'comfortably',\n",
       " u'comment',\n",
       " u'communities',\n",
       " u'compared',\n",
       " u'compartment',\n",
       " u'compartments',\n",
       " u'composed',\n",
       " u'concept',\n",
       " u'cone',\n",
       " u'configuration',\n",
       " u'constantly',\n",
       " u'contains',\n",
       " u'convenient',\n",
       " u'converted',\n",
       " u'corvair',\n",
       " u'dangers',\n",
       " u'data',\n",
       " u'dauphine',\n",
       " u'day',\n",
       " u'dec',\n",
       " u'decades',\n",
       " u'defended',\n",
       " u'democratic',\n",
       " u'deputy',\n",
       " u'devices',\n",
       " u'difficult',\n",
       " u'dimensions',\n",
       " u'documentary',\n",
       " u'don',\n",
       " u'donald',\n",
       " u'doug',\n",
       " u'drinking',\n",
       " u'dropouts',\n",
       " u'dunn',\n",
       " u'early',\n",
       " u'earth',\n",
       " u'ed',\n",
       " u'educators',\n",
       " u'ehrlich',\n",
       " u'elect',\n",
       " u'election',\n",
       " u'electric',\n",
       " u'embattled',\n",
       " u'embracing',\n",
       " u'encouraging',\n",
       " u'engine',\n",
       " u'engines',\n",
       " u'especially',\n",
       " u'evaluate',\n",
       " u'exist',\n",
       " u'exposing',\n",
       " u'exposure',\n",
       " u'fall',\n",
       " u'far',\n",
       " u'farm',\n",
       " u'feet',\n",
       " u'finian',\n",
       " u'fit',\n",
       " u'foe',\n",
       " u'food',\n",
       " u'foot',\n",
       " u'football',\n",
       " u'formed',\n",
       " u'fuel',\n",
       " u'funnel',\n",
       " u'future',\n",
       " u'game',\n",
       " u'geologically',\n",
       " u'geophysical',\n",
       " u'germantown',\n",
       " u'glass',\n",
       " u'gop',\n",
       " u'got',\n",
       " u'government',\n",
       " u'gps',\n",
       " u'grave',\n",
       " u'group',\n",
       " u'gushed',\n",
       " u'hasn',\n",
       " u'height',\n",
       " u'heroic',\n",
       " u'high',\n",
       " u'hinted',\n",
       " u'hints',\n",
       " u'hollow',\n",
       " u'hope',\n",
       " u'house',\n",
       " u'housing',\n",
       " u'huckabee',\n",
       " u'hydroponics',\n",
       " u'ice',\n",
       " u'idea',\n",
       " u'identified',\n",
       " u'important',\n",
       " u'includes',\n",
       " u'income',\n",
       " u'independent',\n",
       " u'inhabitants',\n",
       " u'injured',\n",
       " u'insisting',\n",
       " u'installing',\n",
       " u'instead',\n",
       " u'interestingly',\n",
       " u'jones',\n",
       " u'judd',\n",
       " u'just',\n",
       " u'key',\n",
       " u'king',\n",
       " u'known',\n",
       " u'largely',\n",
       " u'lava',\n",
       " u'leaders',\n",
       " u'leaving',\n",
       " u'leo',\n",
       " u'let',\n",
       " u'letters',\n",
       " u'liftbacks',\n",
       " u'like',\n",
       " u'likely',\n",
       " u'live',\n",
       " u'living',\n",
       " u'longer',\n",
       " u'look',\n",
       " u'low',\n",
       " u'lunar',\n",
       " u'luther',\n",
       " u'major',\n",
       " u'make',\n",
       " u'makes',\n",
       " u'manage',\n",
       " u'mark',\n",
       " u'mars',\n",
       " u'martin',\n",
       " u'maybe',\n",
       " u'mcgrath',\n",
       " u'men',\n",
       " u'merges',\n",
       " u'metal',\n",
       " u'minister',\n",
       " u'ministers',\n",
       " u'minority',\n",
       " u'mirrors',\n",
       " u'missions',\n",
       " u'model',\n",
       " u'models',\n",
       " u'molestation',\n",
       " u'molten',\n",
       " u'monday',\n",
       " u'month',\n",
       " u'moon',\n",
       " u'moore',\n",
       " u'morning',\n",
       " u'movingly',\n",
       " u'multiple',\n",
       " u'nasa',\n",
       " u'necessity',\n",
       " u'need',\n",
       " u'openings',\n",
       " u'orbiter',\n",
       " u'overlooked',\n",
       " u'oversees',\n",
       " u'participate',\n",
       " u'passenger',\n",
       " u'passengers',\n",
       " u'passing',\n",
       " u'performs',\n",
       " u'persuasive',\n",
       " u'philadelphia',\n",
       " u'pigskin',\n",
       " u'pillars',\n",
       " u'plains',\n",
       " u'planet',\n",
       " u'planets',\n",
       " u'plans',\n",
       " u'play',\n",
       " u'players',\n",
       " u'point',\n",
       " u'political',\n",
       " u'poses',\n",
       " u'position',\n",
       " u'possible',\n",
       " u'powered',\n",
       " u'presence',\n",
       " u'president',\n",
       " u'press',\n",
       " u'pressing',\n",
       " u'prime',\n",
       " u'probe',\n",
       " u'production',\n",
       " u'proof',\n",
       " u'prospect',\n",
       " u'provide',\n",
       " u'publicly',\n",
       " u'published',\n",
       " u'pump',\n",
       " u'question',\n",
       " u'race',\n",
       " u'radar',\n",
       " u'ramping',\n",
       " u'ran',\n",
       " u'real',\n",
       " u'rear',\n",
       " u'reason',\n",
       " u'receiving',\n",
       " u'recruiters',\n",
       " u'red',\n",
       " u'regarding',\n",
       " u'relatively',\n",
       " u'relevant',\n",
       " u'renault',\n",
       " u'repeatedly',\n",
       " u'reporters',\n",
       " u'represents',\n",
       " u'republican',\n",
       " u'require',\n",
       " u'requirement',\n",
       " u'research',\n",
       " u'reserved',\n",
       " u'reserves',\n",
       " u'resign',\n",
       " u'return',\n",
       " u'rivals',\n",
       " u'rock',\n",
       " u'roof',\n",
       " u'rows',\n",
       " u'roy',\n",
       " u'running',\n",
       " u'russia',\n",
       " u'said',\n",
       " u'saloon',\n",
       " u'sanders',\n",
       " u'sarah',\n",
       " u'school',\n",
       " u'schools',\n",
       " u'seal',\n",
       " u'season',\n",
       " u'seats',\n",
       " u'secretary',\n",
       " u'sedan',\n",
       " u'selene',\n",
       " u'seriously',\n",
       " u'set',\n",
       " u'settlers',\n",
       " u'seven',\n",
       " u'shields',\n",
       " u'shuttling',\n",
       " u'similar',\n",
       " u'simply',\n",
       " u'situation',\n",
       " u'skylights',\n",
       " u'slight',\n",
       " u'sources',\n",
       " u'space',\n",
       " u'special',\n",
       " u'specific',\n",
       " u'sport',\n",
       " u'sports',\n",
       " u'staging',\n",
       " u'staking',\n",
       " u'standouts',\n",
       " u'star',\n",
       " u'state',\n",
       " u'stay',\n",
       " u'subsided',\n",
       " u'suggested',\n",
       " u'suggestions',\n",
       " u'sunlight',\n",
       " u'supplies',\n",
       " u'support',\n",
       " u'sure',\n",
       " u'surface',\n",
       " u'sustenance',\n",
       " u't613',\n",
       " u'tactic',\n",
       " u'taoiseach',\n",
       " u'task',\n",
       " u'tatra',\n",
       " u'teams',\n",
       " u'tend',\n",
       " u'tesla',\n",
       " u'thousands',\n",
       " u'thursday',\n",
       " u'today',\n",
       " u'told',\n",
       " u'tool',\n",
       " u'tournaments',\n",
       " u'tried',\n",
       " u'true',\n",
       " u'trump',\n",
       " u'tube',\n",
       " u'tubes',\n",
       " u'tunneling',\n",
       " u'type',\n",
       " u'uncertainty',\n",
       " u'union',\n",
       " u'usually',\n",
       " u'varadkar',\n",
       " u'vast',\n",
       " u'vehicles',\n",
       " u'views',\n",
       " u'visiting',\n",
       " u'volkswagen',\n",
       " u'voters',\n",
       " u'water',\n",
       " u'weight',\n",
       " u'white',\n",
       " u'wide',\n",
       " u'won',\n",
       " u'work',\n",
       " u'worked',\n",
       " u'world',\n",
       " u'worlds',\n",
       " u'years',\n",
       " u'young']"
      ]
     },
     "execution_count": 138,
     "metadata": {},
     "output_type": "execute_result"
    }
   ],
   "source": [
    "vectorizer.get_feature_names()"
   ]
  },
  {
   "cell_type": "code",
   "execution_count": 140,
   "metadata": {},
   "outputs": [],
   "source": [
    "lsa = TruncatedSVD(2, algorithm = 'arpack')"
   ]
  },
  {
   "cell_type": "code",
   "execution_count": null,
   "metadata": {},
   "outputs": [],
   "source": [
    "dtm_lsa = lsa.fit_transform(dtm)"
   ]
  },
  {
   "cell_type": "code",
   "execution_count": 147,
   "metadata": {
    "collapsed": true
   },
   "outputs": [],
   "source": [
    "dtm_lsa = Normalizer(copy=False).fit_transform(dtm)"
   ]
  },
  {
   "cell_type": "code",
   "execution_count": 148,
   "metadata": {},
   "outputs": [
    {
     "data": {
      "text/plain": [
       "<16x371 sparse matrix of type '<type 'numpy.float64'>'\n",
       "\twith 473 stored elements in Compressed Sparse Row format>"
      ]
     },
     "execution_count": 148,
     "metadata": {},
     "output_type": "execute_result"
    }
   ],
   "source": [
    "dtm_lsa"
   ]
  },
  {
   "cell_type": "code",
   "execution_count": 153,
   "metadata": {},
   "outputs": [
    {
     "name": "stdout",
     "output_type": "stream",
     "text": [
      "                                                                                          component_1  \\\n",
      "For all the dangers football poses to its playe...    (0, 4)\\t0.123091490979\\n  (0, 17)\\t0.1230914...   \n",
      "For all the dangers football poses to its playe...    (0, 4)\\t0.123091490979\\n  (0, 17)\\t0.1230914...   \n",
      "College football recruiters have their GPS devi...    (0, 4)\\t0.123091490979\\n  (0, 17)\\t0.1230914...   \n",
      "The prospect of housing astronauts beneath the ...    (0, 4)\\t0.123091490979\\n  (0, 17)\\t0.1230914...   \n",
      "There are still a few challenges to be worked o...    (0, 4)\\t0.123091490979\\n  (0, 17)\\t0.1230914...   \n",
      "Nevertheless, if we manage to seal off a lunar ...    (0, 4)\\t0.123091490979\\n  (0, 17)\\t0.1230914...   \n",
      "According to radar data from the agency's SELEN...    (0, 4)\\t0.123091490979\\n  (0, 17)\\t0.1230914...   \n",
      "Lava tubes formed billions of years ago when th...    (0, 4)\\t0.123091490979\\n  (0, 17)\\t0.1230914...   \n",
      " President Donald Trump has made it known he wo...    (0, 4)\\t0.123091490979\\n  (0, 17)\\t0.1230914...   \n",
      "Trump is embracing a tried-and-true tactic befo...    (0, 4)\\t0.123091490979\\n  (0, 17)\\t0.1230914...   \n",
      "Trump has repeatedly assailed Democratic candid...    (0, 4)\\t0.123091490979\\n  (0, 17)\\t0.1230914...   \n",
      "The two independent cabinet ministers that supp...    (0, 4)\\t0.123091490979\\n  (0, 17)\\t0.1230914...   \n",
      "The situation is very grave. We will make our v...    (0, 4)\\t0.123091490979\\n  (0, 17)\\t0.1230914...   \n",
      "Also called saloon, a sedan is a type of passen...    (0, 4)\\t0.123091490979\\n  (0, 17)\\t0.1230914...   \n",
      "Regarding the passenger compartment, it include...    (0, 4)\\t0.123091490979\\n  (0, 17)\\t0.1230914...   \n",
      "Interestingly, battery electric liftbacks like ...    (0, 4)\\t0.123091490979\\n  (0, 17)\\t0.1230914...   \n",
      "\n",
      "                                                                                          component_2  \n",
      "For all the dangers football poses to its playe...    (0, 4)\\t0.123091490979\\n  (0, 17)\\t0.1230914...  \n",
      "For all the dangers football poses to its playe...    (0, 4)\\t0.123091490979\\n  (0, 17)\\t0.1230914...  \n",
      "College football recruiters have their GPS devi...    (0, 4)\\t0.123091490979\\n  (0, 17)\\t0.1230914...  \n",
      "The prospect of housing astronauts beneath the ...    (0, 4)\\t0.123091490979\\n  (0, 17)\\t0.1230914...  \n",
      "There are still a few challenges to be worked o...    (0, 4)\\t0.123091490979\\n  (0, 17)\\t0.1230914...  \n",
      "Nevertheless, if we manage to seal off a lunar ...    (0, 4)\\t0.123091490979\\n  (0, 17)\\t0.1230914...  \n",
      "According to radar data from the agency's SELEN...    (0, 4)\\t0.123091490979\\n  (0, 17)\\t0.1230914...  \n",
      "Lava tubes formed billions of years ago when th...    (0, 4)\\t0.123091490979\\n  (0, 17)\\t0.1230914...  \n",
      " President Donald Trump has made it known he wo...    (0, 4)\\t0.123091490979\\n  (0, 17)\\t0.1230914...  \n",
      "Trump is embracing a tried-and-true tactic befo...    (0, 4)\\t0.123091490979\\n  (0, 17)\\t0.1230914...  \n",
      "Trump has repeatedly assailed Democratic candid...    (0, 4)\\t0.123091490979\\n  (0, 17)\\t0.1230914...  \n",
      "The two independent cabinet ministers that supp...    (0, 4)\\t0.123091490979\\n  (0, 17)\\t0.1230914...  \n",
      "The situation is very grave. We will make our v...    (0, 4)\\t0.123091490979\\n  (0, 17)\\t0.1230914...  \n",
      "Also called saloon, a sedan is a type of passen...    (0, 4)\\t0.123091490979\\n  (0, 17)\\t0.1230914...  \n",
      "Regarding the passenger compartment, it include...    (0, 4)\\t0.123091490979\\n  (0, 17)\\t0.1230914...  \n",
      "Interestingly, battery electric liftbacks like ...    (0, 4)\\t0.123091490979\\n  (0, 17)\\t0.1230914...  \n"
     ]
    }
   ],
   "source": [
    "print(pd.DataFrame(dtm_lsa, index = Final_Corpus, columns = [\"component_1\",\"component_2\"]))"
   ]
  },
  {
   "cell_type": "code",
   "execution_count": null,
   "metadata": {},
   "outputs": [],
   "source": [
    "similarity = np.asarray(np.asmatrix(dtm_lsa) * np.asmatrix(dtm_lsa).T)\n",
    "pd.DataFrame(similarity,index=example, columns=example).head(10)"
   ]
  },
  {
   "cell_type": "code",
   "execution_count": 160,
   "metadata": {},
   "outputs": [
    {
     "data": {
      "text/plain": [
       "matrix([[ <16x371 sparse matrix of type '<type 'numpy.float64'>'\n",
       " \twith 473 stored elements in Compressed Sparse Row format>]], dtype=object)"
      ]
     },
     "execution_count": 160,
     "metadata": {},
     "output_type": "execute_result"
    }
   ],
   "source": [
    "np.asmatrix(dtm_lsa)"
   ]
  },
  {
   "cell_type": "code",
   "execution_count": 172,
   "metadata": {},
   "outputs": [
    {
     "data": {
      "text/plain": [
       "matrix([[ <16x371 sparse matrix of type '<type 'numpy.float64'>'\n",
       " \twith 473 stored elements in Compressed Sparse Row format>]], dtype=object)"
      ]
     },
     "execution_count": 172,
     "metadata": {},
     "output_type": "execute_result"
    }
   ],
   "source": [
    "np.asmatrix(dtm_lsa).T"
   ]
  },
  {
   "cell_type": "markdown",
   "metadata": {},
   "source": [
    "# EX5: Negative and Positive Sentiment"
   ]
  },
  {
   "cell_type": "code",
   "execution_count": 180,
   "metadata": {},
   "outputs": [],
   "source": [
    "senti_dict = {}\n",
    "for each_line in open('Dict.txt'):\n",
    "    word,score = each_line.split(',')\n",
    "    senti_dict[word] = int(score)"
   ]
  },
  {
   "cell_type": "code",
   "execution_count": 181,
   "metadata": {},
   "outputs": [
    {
     "data": {
      "text/plain": [
       "{'annoy': -2,\n",
       " 'annoyed': -2,\n",
       " 'annoyingly ': -1,\n",
       " 'awesome': 4,\n",
       " 'beautiful': 2,\n",
       " 'beautifully': 2,\n",
       " 'beauty': 2,\n",
       " 'best': 2,\n",
       " 'better': 1,\n",
       " 'excellent': 4,\n",
       " 'good': 2,\n",
       " 'hate': -2,\n",
       " 'hatred': -3,\n",
       " 'nasty': -2,\n",
       " 'nice': 3,\n",
       " 'supreme': 3,\n",
       " 'wonderful': 1}"
      ]
     },
     "execution_count": 181,
     "metadata": {},
     "output_type": "execute_result"
    }
   ],
   "source": [
    "senti_dict"
   ]
  },
  {
   "cell_type": "code",
   "execution_count": 182,
   "metadata": {
    "collapsed": true
   },
   "outputs": [],
   "source": [
    "data = pd.read_table('NLP_Q5.txt',header=None,names='C')"
   ]
  },
  {
   "cell_type": "code",
   "execution_count": 191,
   "metadata": {},
   "outputs": [],
   "source": [
    "SentenceArray = []\n",
    "for X in range(len(data) -1):\n",
    "    #sentence = word_tokenize(data['C'][X])\n",
    "    sentence = data['C'][X].lower().split()\n",
    "    SentenceArray.append(sentence)"
   ]
  },
  {
   "cell_type": "code",
   "execution_count": 193,
   "metadata": {},
   "outputs": [
    {
     "data": {
      "text/plain": [
       "['rose', 'is', 'beautiful.']"
      ]
     },
     "execution_count": 193,
     "metadata": {},
     "output_type": "execute_result"
    }
   ],
   "source": [
    "SentenceArray[0]"
   ]
  },
  {
   "cell_type": "code",
   "execution_count": 203,
   "metadata": {},
   "outputs": [
    {
     "name": "stdout",
     "output_type": "stream",
     "text": [
      "Rose is beautiful.\n",
      "0\n",
      "Place is nasty to stay.\n",
      "-2\n",
      "This is the beauty of this technique.\n",
      "2\n",
      "Concept is explained beautifully in this book.\n",
      "2\n",
      "He annoyed me.\n",
      "-2\n",
      "Its the supreme place to stay.\n",
      "3\n",
      "I hate this place.\n",
      "-2\n",
      "Dont annoy the customer.\n",
      "-2\n",
      "He has given nasty comments about his stay.\n",
      "-2\n"
     ]
    }
   ],
   "source": [
    "for X in range(len(SentenceArray) -1):\n",
    "    print data['C'][X] \n",
    "    print(sum( senti_dict.get(word, 0) for word in SentenceArray[X]))"
   ]
  },
  {
   "cell_type": "code",
   "execution_count": null,
   "metadata": {
    "collapsed": true
   },
   "outputs": [],
   "source": []
  }
 ],
 "metadata": {
  "kernelspec": {
   "display_name": "Python 2",
   "language": "python",
   "name": "python2"
  },
  "language_info": {
   "codemirror_mode": {
    "name": "ipython",
    "version": 2
   },
   "file_extension": ".py",
   "mimetype": "text/x-python",
   "name": "python",
   "nbconvert_exporter": "python",
   "pygments_lexer": "ipython2",
   "version": "2.7.13"
  }
 },
 "nbformat": 4,
 "nbformat_minor": 2
}
